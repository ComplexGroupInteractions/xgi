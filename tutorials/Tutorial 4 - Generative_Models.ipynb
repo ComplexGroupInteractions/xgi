{
 "cells": [
  {
   "cell_type": "markdown",
   "metadata": {},
   "source": [
    "# Generative Models\n",
    "\n",
    "The `generators` module provides functionality to generate common models of hypergraphs, both non-uniform and uniform."
   ]
  },
  {
   "cell_type": "code",
   "execution_count": 1,
   "metadata": {
    "ExecuteTime": {
     "end_time": "2022-04-15T15:23:54.422301Z",
     "start_time": "2022-04-15T15:23:53.626507Z"
    }
   },
   "outputs": [],
   "source": [
    "import xgi\n",
    "import numpy as np\n",
    "import random"
   ]
  },
  {
   "cell_type": "markdown",
   "metadata": {
    "ExecuteTime": {
     "end_time": "2022-04-15T15:05:53.253396Z",
     "start_time": "2022-04-15T15:05:53.201681Z"
    }
   },
   "source": [
    "## Hypergraph generative models"
   ]
  },
  {
   "cell_type": "markdown",
   "metadata": {},
   "source": [
    "### Uniform configuration model"
   ]
  },
  {
   "cell_type": "code",
   "execution_count": null,
   "metadata": {
    "ExecuteTime": {
     "end_time": "2022-04-15T15:07:57.413041Z",
     "start_time": "2022-04-15T15:07:57.338369Z"
    }
   },
   "outputs": [],
   "source": [
    "n = 1000\n",
    "m = 3\n",
    "k = {i: random.randint(10, 30) for i in range(n)}\n",
    "H = xgi.uniform_hypergraph_configuration_model(k, m)"
   ]
  },
  {
   "cell_type": "markdown",
   "metadata": {},
   "source": [
    "### Erdős–Rényi model"
   ]
  },
  {
   "cell_type": "code",
   "execution_count": null,
   "metadata": {
    "ExecuteTime": {
     "end_time": "2022-04-15T15:08:15.374843Z",
     "start_time": "2022-04-15T15:07:58.680739Z"
    }
   },
   "outputs": [],
   "source": [
    "n = 1000\n",
    "ps = [0.01, 0.001]\n",
    "H = xgi.random_hypergraph(n, ps)"
   ]
  },
  {
   "cell_type": "markdown",
   "metadata": {},
   "source": [
    "### Non-uniform configuration model"
   ]
  },
  {
   "cell_type": "code",
   "execution_count": null,
   "metadata": {
    "ExecuteTime": {
     "end_time": "2022-04-15T15:08:15.582623Z",
     "start_time": "2022-04-15T15:08:15.376554Z"
    }
   },
   "outputs": [],
   "source": [
    "n = 1000\n",
    "k1 = {i : random.randint(10, 30) for i in range(n)}\n",
    "k2 = {i : sorted(k1.values())[i] for i in range(n)}\n",
    "H = xgi.chung_lu_hypergraph(k1, k2)"
   ]
  },
  {
   "cell_type": "markdown",
   "metadata": {},
   "source": [
    "### Non-uniform DCSBM hypergraph"
   ]
  },
  {
   "cell_type": "code",
   "execution_count": null,
   "metadata": {
    "ExecuteTime": {
     "end_time": "2022-04-15T15:08:37.577438Z",
     "start_time": "2022-04-15T15:08:37.574189Z"
    }
   },
   "outputs": [],
   "source": [
    "# n = 1000\n",
    "# k1 = {i : random.randint(1, 100) for i in range(n)}\n",
    "# k2 = {i : sorted(k1.values())[i] for i in range(n)}\n",
    "# g1 = {i : random.choice([0, 1]) for i in range(n)}\n",
    "# g2 = {i : random.choice([0, 1]) for i in range(n)}\n",
    "# omega = np.array([[100, 10], [10, 100]])\n",
    "# H = xgi.dcsbm_hypergraph(k1, k2, g1, g2, omega)"
   ]
  },
  {
   "cell_type": "markdown",
   "metadata": {},
   "source": [
    "## Simplicial Complex Generative Models"
   ]
  },
  {
   "cell_type": "markdown",
   "metadata": {},
   "source": [
    "### Random simplicial complex model \n",
    "(from Iacopini et al. 2019)\n",
    "\n",
    "Given $n$ nodes and a vector of probabilities $\\vec{p} = [p_1, p_2, \\ldots, p_{d}$], where $d$ is the maximal \n",
    "simplex dimension desired, the model creates simplices at each dimension with the corresponding probability ($p_1$ for edges, $p_2$ for 2-simplices, etc). "
   ]
  },
  {
   "cell_type": "code",
   "execution_count": null,
   "metadata": {
    "ExecuteTime": {
     "end_time": "2022-04-15T15:09:59.280612Z",
     "start_time": "2022-04-15T15:09:17.868465Z"
    }
   },
   "outputs": [],
   "source": [
    "n = 20;\n",
    "ps = [0.1, 0.2, 0.1]\n",
    "SC = xgi.random_simplicial_complex(n, ps)"
   ]
  },
  {
   "cell_type": "markdown",
   "metadata": {
    "ExecuteTime": {
     "end_time": "2022-04-15T15:10:54.730481Z",
     "start_time": "2022-04-15T15:10:54.671334Z"
    }
   },
   "source": [
    "### Random flag complex model in 2D\n",
    "The model creates an Erdos-Renyi network with $n$ nodes and probability $p$ for any pair of edges. \n",
    "It then promotes all 3-cliques to 2-simplices. "
   ]
  },
  {
   "cell_type": "code",
   "execution_count": 3,
   "metadata": {
    "ExecuteTime": {
     "end_time": "2022-04-15T15:23:59.435135Z",
     "start_time": "2022-04-15T15:23:59.425803Z"
    }
   },
   "outputs": [],
   "source": [
    "n = 50\n",
    "p = 0.05\n",
    "SC = xgi.random_flag_complex_d2(n, p)"
   ]
  },
  {
   "cell_type": "markdown",
   "metadata": {
    "ExecuteTime": {
     "end_time": "2022-04-15T15:22:14.760787Z",
     "start_time": "2022-04-15T15:22:14.758381Z"
    }
   },
   "source": [
    "### Generalized random flag complex model "
   ]
  },
  {
   "cell_type": "code",
   "execution_count": 20,
   "metadata": {
    "ExecuteTime": {
     "end_time": "2022-04-15T15:27:12.390152Z",
     "start_time": "2022-04-15T15:27:12.362228Z"
    }
   },
   "outputs": [],
   "source": [
    "n = 30\n",
    "p = 0.2\n",
    "SC = xgi.random_flag_complex(n, p, max_order=3)"
   ]
  },
  {
   "cell_type": "code",
   "execution_count": 21,
   "metadata": {
    "ExecuteTime": {
     "end_time": "2022-04-15T15:27:13.646015Z",
     "start_time": "2022-04-15T15:27:13.636253Z"
    },
    "scrolled": false
   },
   "outputs": [
    {
     "data": {
      "text/plain": [
       "[frozenset({1, 18}),\n",
       " frozenset({1, 19}),\n",
       " frozenset({1, 14, 27}),\n",
       " frozenset({1, 14}),\n",
       " frozenset({1, 27}),\n",
       " frozenset({14, 27}),\n",
       " frozenset({1, 7, 22, 24}),\n",
       " frozenset({1, 22, 24}),\n",
       " frozenset({1, 22}),\n",
       " frozenset({1, 24}),\n",
       " frozenset({22, 24}),\n",
       " frozenset({1, 7, 22}),\n",
       " frozenset({1, 7}),\n",
       " frozenset({7, 22}),\n",
       " frozenset({1, 7, 24}),\n",
       " frozenset({7, 24}),\n",
       " frozenset({7, 22, 24}),\n",
       " frozenset({1, 22, 27}),\n",
       " frozenset({22, 27}),\n",
       " frozenset({0, 2, 20}),\n",
       " frozenset({0, 2}),\n",
       " frozenset({2, 20}),\n",
       " frozenset({0, 20}),\n",
       " frozenset({0, 2, 13}),\n",
       " frozenset({2, 13}),\n",
       " frozenset({0, 13}),\n",
       " frozenset({2, 4, 26}),\n",
       " frozenset({2, 4}),\n",
       " frozenset({2, 26}),\n",
       " frozenset({4, 26}),\n",
       " frozenset({2, 4, 7, 23}),\n",
       " frozenset({2, 4, 23}),\n",
       " frozenset({2, 23}),\n",
       " frozenset({4, 23}),\n",
       " frozenset({2, 4, 7}),\n",
       " frozenset({2, 7}),\n",
       " frozenset({4, 7}),\n",
       " frozenset({2, 7, 23}),\n",
       " frozenset({7, 23}),\n",
       " frozenset({4, 7, 23}),\n",
       " frozenset({2, 12, 20}),\n",
       " frozenset({2, 12}),\n",
       " frozenset({12, 20}),\n",
       " frozenset({2, 7, 12}),\n",
       " frozenset({7, 12}),\n",
       " frozenset({2, 15}),\n",
       " frozenset({2, 17}),\n",
       " frozenset({2, 20, 26}),\n",
       " frozenset({20, 26}),\n",
       " frozenset({3, 27}),\n",
       " frozenset({3, 11}),\n",
       " frozenset({5, 27}),\n",
       " frozenset({5, 19, 26}),\n",
       " frozenset({5, 19}),\n",
       " frozenset({5, 26}),\n",
       " frozenset({19, 26}),\n",
       " frozenset({5, 21}),\n",
       " frozenset({5, 23}),\n",
       " frozenset({6, 11, 26}),\n",
       " frozenset({6, 11}),\n",
       " frozenset({6, 26}),\n",
       " frozenset({11, 26}),\n",
       " frozenset({6, 11, 29}),\n",
       " frozenset({6, 29}),\n",
       " frozenset({11, 29}),\n",
       " frozenset({6, 12}),\n",
       " frozenset({6, 13}),\n",
       " frozenset({6, 15}),\n",
       " frozenset({8, 18}),\n",
       " frozenset({8, 20}),\n",
       " frozenset({8, 14, 27}),\n",
       " frozenset({8, 14}),\n",
       " frozenset({8, 27}),\n",
       " frozenset({8, 22, 27}),\n",
       " frozenset({8, 22}),\n",
       " frozenset({8, 22, 28}),\n",
       " frozenset({8, 28}),\n",
       " frozenset({22, 28}),\n",
       " frozenset({4, 9, 26}),\n",
       " frozenset({9, 26}),\n",
       " frozenset({4, 9}),\n",
       " frozenset({9, 12}),\n",
       " frozenset({10, 19, 20}),\n",
       " frozenset({10, 19}),\n",
       " frozenset({10, 20}),\n",
       " frozenset({19, 20}),\n",
       " frozenset({11, 24}),\n",
       " frozenset({11, 19, 26}),\n",
       " frozenset({11, 19}),\n",
       " frozenset({11, 14, 29}),\n",
       " frozenset({11, 14}),\n",
       " frozenset({14, 29}),\n",
       " frozenset({14, 25, 27}),\n",
       " frozenset({14, 25}),\n",
       " frozenset({25, 27}),\n",
       " frozenset({16, 28}),\n",
       " frozenset({16, 23}),\n",
       " frozenset({15, 16}),\n",
       " frozenset({17, 18}),\n",
       " frozenset({19, 20, 26}),\n",
       " frozenset({19, 26, 28}),\n",
       " frozenset({19, 28}),\n",
       " frozenset({26, 28}),\n",
       " frozenset({7, 21, 24}),\n",
       " frozenset({21, 24}),\n",
       " frozenset({7, 21}),\n",
       " frozenset({15, 21}),\n",
       " frozenset({22, 26, 28}),\n",
       " frozenset({22, 26}),\n",
       " frozenset({24, 25}),\n",
       " frozenset({15, 25}),\n",
       " frozenset({23, 25}),\n",
       " frozenset({7, 29})]"
      ]
     },
     "execution_count": 21,
     "metadata": {},
     "output_type": "execute_result"
    }
   ],
   "source": [
    "SC.edges.members()"
   ]
  },
  {
   "cell_type": "code",
   "execution_count": null,
   "metadata": {},
   "outputs": [],
   "source": [
    "### Flag complex from graph\n",
    "It is also possible to construct flag (clique) complexes starting from an existing network. \n",
    "For example, we can consider the C. Elegans connectome. "
   ]
  }
 ],
 "metadata": {
  "interpreter": {
   "hash": "e8c90be8a507c947d600755d98ec41f3a8064ae1d46b0505dd1a3ad2a7800759"
  },
  "kernelspec": {
   "display_name": "pyenv3.8",
   "language": "python",
   "name": "pyenv3.8"
  },
  "language_info": {
   "codemirror_mode": {
    "name": "ipython",
    "version": 3
   },
   "file_extension": ".py",
   "mimetype": "text/x-python",
   "name": "python",
   "nbconvert_exporter": "python",
   "pygments_lexer": "ipython3",
   "version": "3.8.13"
  },
  "toc": {
   "base_numbering": 1,
   "nav_menu": {},
   "number_sections": true,
   "sideBar": true,
   "skip_h1_title": false,
   "title_cell": "Table of Contents",
   "title_sidebar": "Contents",
   "toc_cell": false,
   "toc_position": {},
   "toc_section_display": true,
   "toc_window_display": false
  }
 },
 "nbformat": 4,
 "nbformat_minor": 2
}
