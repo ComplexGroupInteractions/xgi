{
 "cells": [
  {
   "cell_type": "markdown",
   "id": "503e5dbf",
   "metadata": {},
   "source": [
    "# Case study 1"
   ]
  },
  {
   "cell_type": "markdown",
   "id": "733e7700",
   "metadata": {},
   "source": [
    "Here, using XGI, we reprocude figures 1 and 2 of the paper  \n",
    "\"Do higher-order interactions promote synchronization?\"  \n",
    "Yuanzhao Zhang*, Maxime Lucas*, Federico Battiston  \n",
    "[arXiv:2203.03060](https://doi.org/10.48550/arXiv.2203.03060)"
   ]
  },
  {
   "cell_type": "code",
   "execution_count": 1,
   "id": "278e6fe4",
   "metadata": {},
   "outputs": [
    {
     "ename": "ModuleNotFoundError",
     "evalue": "No module named 'seaborn'",
     "output_type": "error",
     "traceback": [
      "\u001b[1;31m---------------------------------------------------------------------------\u001b[0m",
      "\u001b[1;31mModuleNotFoundError\u001b[0m                       Traceback (most recent call last)",
      "\u001b[1;32m~\\AppData\\Local\\Temp/ipykernel_49108/2968990623.py\u001b[0m in \u001b[0;36m<module>\u001b[1;34m\u001b[0m\n\u001b[0;32m      1\u001b[0m \u001b[1;32mimport\u001b[0m \u001b[0mmatplotlib\u001b[0m\u001b[1;33m.\u001b[0m\u001b[0mpyplot\u001b[0m \u001b[1;32mas\u001b[0m \u001b[0mplt\u001b[0m\u001b[1;33m\u001b[0m\u001b[1;33m\u001b[0m\u001b[0m\n\u001b[0;32m      2\u001b[0m \u001b[1;32mimport\u001b[0m \u001b[0mnumpy\u001b[0m \u001b[1;32mas\u001b[0m \u001b[0mnp\u001b[0m\u001b[1;33m\u001b[0m\u001b[1;33m\u001b[0m\u001b[0m\n\u001b[1;32m----> 3\u001b[1;33m \u001b[1;32mimport\u001b[0m \u001b[0mseaborn\u001b[0m \u001b[1;32mas\u001b[0m \u001b[0msb\u001b[0m\u001b[1;33m\u001b[0m\u001b[1;33m\u001b[0m\u001b[0m\n\u001b[0m\u001b[0;32m      4\u001b[0m \u001b[1;32mfrom\u001b[0m \u001b[0mmpl_toolkits\u001b[0m\u001b[1;33m.\u001b[0m\u001b[0maxes_grid1\u001b[0m\u001b[1;33m.\u001b[0m\u001b[0minset_locator\u001b[0m \u001b[1;32mimport\u001b[0m \u001b[0minset_axes\u001b[0m\u001b[1;33m\u001b[0m\u001b[1;33m\u001b[0m\u001b[0m\n\u001b[0;32m      5\u001b[0m \u001b[1;33m\u001b[0m\u001b[0m\n",
      "\u001b[1;31mModuleNotFoundError\u001b[0m: No module named 'seaborn'"
     ]
    }
   ],
   "source": [
    "import matplotlib.pyplot as plt\n",
    "import numpy as np\n",
    "import seaborn as sb\n",
    "from mpl_toolkits.axes_grid1.inset_locator import inset_axes\n",
    "\n",
    "import xgi\n",
    "\n",
    "sb.set_context(\"paper\")\n",
    "sb.set_theme(style=\"ticks\")"
   ]
  },
  {
   "cell_type": "code",
   "execution_count": 2,
   "id": "ac413842",
   "metadata": {},
   "outputs": [],
   "source": [
    "# utility functions to compute the Lyapunov exponents from the Laplacians\n",
    "def compute_eigenvalues(H, order, weight, rescale_per_node=True):\n",
    "    \"\"\"Returns the Lyapunov exponents of corresponding to the Laplacian of order d.\n",
    "\n",
    "    Parameters\n",
    "    ----------\n",
    "    HG : xgi.HyperGraph\n",
    "        Hypergraph\n",
    "    order : int\n",
    "        Order to consider.\n",
    "    weight: float\n",
    "        Weight, i.e coupling strenght gamma in [1]_.\n",
    "    rescale_per_node: bool, (default=True)\n",
    "        Whether to rescale each Laplacian of order d by d (per node).\n",
    "\n",
    "    Returns\n",
    "    -------\n",
    "    lyap : array\n",
    "        Array of dim (N,) with unsorted Lyapunov exponents\n",
    "    \"\"\"\n",
    "\n",
    "    # compute Laplacian\n",
    "    L = xgi.laplacian(H, order, rescale_per_node=rescale_per_node)\n",
    "    K = xgi.degree_matrix(H, order)\n",
    "\n",
    "    # compute eigenvalues\n",
    "    eivals, _ = np.linalg.eig(L)\n",
    "    lyap = -(weight / np.mean(K)) * eivals\n",
    "    return lyap\n",
    "\n",
    "\n",
    "def compute_eigenvalues_multi(H, orders, weights, rescale_per_node=True):\n",
    "    \"\"\"Returns the Lyapunov exponents of corresponding to the muliotder Laplacian.\n",
    "\n",
    "    Parameters\n",
    "    ----------\n",
    "    HG : xgi.HyperGraph\n",
    "        Hypergraph\n",
    "    orders : list of int\n",
    "        Orders of interactions to consider.\n",
    "    weights: list of float\n",
    "        Weight of each order, i.e coupling strenghts gamma_i in [1]_.\n",
    "    rescale_per_node: bool, (default=True)\n",
    "        Whether to rescale each Laplacian of order d by d (per node).\n",
    "\n",
    "    Returns\n",
    "    -------\n",
    "    lyap : array\n",
    "        Array of dim (N,) with unsorted Lyapunov exponents\n",
    "    \"\"\"\n",
    "\n",
    "    # compute multiorder Laplacian\n",
    "    L_multi = xgi.multiorder_laplacian(\n",
    "        H, orders, weights, rescale_per_node=rescale_per_node\n",
    "    )\n",
    "\n",
    "    # compute eigenvalues\n",
    "    eivals_multi, _ = np.linalg.eig(L_multi)\n",
    "    lyap_multi = -eivals_multi\n",
    "    return lyap_multi"
   ]
  },
  {
   "cell_type": "markdown",
   "id": "f583af06",
   "metadata": {},
   "source": [
    "## Fig. 1"
   ]
  },
  {
   "cell_type": "markdown",
   "id": "ba0a4afa",
   "metadata": {},
   "source": [
    "### Generate random structures"
   ]
  },
  {
   "cell_type": "code",
   "execution_count": 3,
   "id": "990d4725",
   "metadata": {},
   "outputs": [],
   "source": [
    "N = 50 # number of nodes\n",
    "ps = [0.1, 0.1] # ps[i] is the wiring probability of any i+2 nodes (ps[0] is for edges, e.g.)\n",
    "alpha = 0.5 # ratio between coupling strength of 1st and 2nd order interaction (must be in [0,1])\n",
    "# rescale = True # whether to rescale \n",
    "\n",
    "n_repetitions = 3 # number of realisations of random structures\n",
    "\n",
    "# generate random hypergraphs \n",
    "HGs = [xgi.random_hypergraph(N, ps) for i in range(n_repetitions)]"
   ]
  },
  {
   "cell_type": "code",
   "execution_count": 4,
   "id": "6df0975c",
   "metadata": {},
   "outputs": [],
   "source": [
    "# generate random simplicial complex\n",
    "MSCs = [xgi.random_maximal_simplicial_complex_d2(N, p=0.5) for i in range(n_repetitions)]"
   ]
  },
  {
   "cell_type": "markdown",
   "id": "16244b59",
   "metadata": {},
   "source": [
    "### Compute Lyapunov exponents"
   ]
  },
  {
   "cell_type": "code",
   "execution_count": 5,
   "id": "84e776a5",
   "metadata": {},
   "outputs": [
    {
     "name": "stderr",
     "output_type": "stream",
     "text": [
      "/Users/maxime/Dropbox (ISI Foundation)/WORK/SCIENCE/xgi/venv/lib/python3.9/site-packages/scipy/sparse/compressed.py:291: SparseEfficiencyWarning: Comparing a sparse matrix with a scalar greater than zero using < is inefficient, try using >= instead.\n",
      "  warn(bad_scalar_msg, SparseEfficiencyWarning)\n",
      "/Users/maxime/Dropbox (ISI Foundation)/WORK/SCIENCE/xgi/venv/lib/python3.9/site-packages/scipy/sparse/_index.py:125: SparseEfficiencyWarning: Changing the sparsity structure of a csr_matrix is expensive. lil_matrix is more efficient.\n",
      "  self._set_arrayXarray(i, j, x)\n"
     ]
    }
   ],
   "source": [
    "alphas = np.arange(0, 1.01, 0.1)\n",
    "n_alpha = len(alphas)\n",
    "\n",
    "lyaps_HG = np.zeros((n_alpha, N, n_repetitions))\n",
    "\n",
    "# compute Lyapunov exponents for all alpha values\n",
    "for j, HG in enumerate(HGs): # for all hypergraphs\n",
    "    \n",
    "    for i, alpha in enumerate(alphas) : \n",
    "        lyap_1 = compute_eigenvalues(HG, order=1, weight=1-alpha)\n",
    "        lyap_2 = compute_eigenvalues(HG, order=2, weight=alpha)\n",
    "        lyap_multi = compute_eigenvalues_multi(HG, orders=[1,2], weights=[1-alpha, alpha])\n",
    "        \n",
    "        lyap_multi = np.sort(lyap_multi)[::-1] \n",
    "        lyaps_HG[i,:,j] = lyap_multi \n",
    "        \n",
    "lyaps_MSC = np.zeros((n_alpha, N, n_repetitions))\n",
    "\n",
    "# compute Lyapunov exponents for all alpha values\n",
    "for j, MSC in enumerate(MSCs): # for all simplicial complexes\n",
    "    \n",
    "    for i, alpha in enumerate(alphas) : \n",
    "        lyap_1 = compute_eigenvalues(MSC, order=1, weight=1-alpha)\n",
    "        lyap_2 = compute_eigenvalues(MSC, order=2, weight=alpha)\n",
    "        lyap_multi = compute_eigenvalues_multi(MSC, orders=[1,2], weights=[1-alpha, alpha])\n",
    "        \n",
    "        lyap_multi = np.sort(lyap_multi)[::-1] \n",
    "        lyaps_MSC[i,:,j] = lyap_multi "
   ]
  },
  {
   "cell_type": "code",
   "execution_count": 6,
   "id": "7c72fecd",
   "metadata": {},
   "outputs": [],
   "source": [
    "# average and std over the random realisations\n",
    "# consider the second largest exponents only\n",
    "means_HG = np.mean(lyaps_HG[:, 1,:], axis=1)\n",
    "std_HG = np.std(lyaps_HG[:, 1,:], axis=1)\n",
    "\n",
    "means_MSC = np.mean(lyaps_MSC[:, 1,:], axis=1)\n",
    "std_MSC = np.std(lyaps_MSC[:, 1,:], axis=1)"
   ]
  },
  {
   "cell_type": "markdown",
   "id": "723a2614",
   "metadata": {},
   "source": [
    "### Plot results"
   ]
  },
  {
   "cell_type": "code",
   "execution_count": 7,
   "id": "c74c2de5",
   "metadata": {},
   "outputs": [
    {
     "data": {
      "image/png": "[encoded data removed]",
      "text/plain": [
       "<Figure size 288x194.4 with 1 Axes>"
      ]
     },
     "metadata": {},
     "output_type": "display_data"
    }
   ],
   "source": [
    "fig, ax = plt.subplots(figsize=(4, 2.7))\n",
    "\n",
    "ax.errorbar(alphas, means_HG, yerr=std_HG, fmt='-o', color='C0', \n",
    "            ecolor='gray', elinewidth=3, capsize=0, label='hypergraph')\n",
    "\n",
    "ax.errorbar(alphas, means_MSC, yerr=std_MSC, fmt='-o', color='C2',\n",
    "            ecolor='gray', elinewidth=3, capsize=0, label='simplicial complex')\n",
    "\n",
    "ax.set_ylabel(r\"$\\lambda_2$\")\n",
    "ax.set_xlabel(r\"$\\alpha$\")\n",
    "\n",
    "ax.set_xticks([0, 0.5, 1])\n",
    "\n",
    "sb.despine()\n",
    "ax.legend(frameon=False)\n",
    "\n",
    "fig_name = f\"lambda2_HG_SC_N_{N}_ps_{ps}_nrep_{n_repetitions}\"\n",
    "# plt.savefig(f\"{fig_name}.pdf\", dpi=250, bbox_inches=\"tight\")\n",
    "\n",
    "plt.show()"
   ]
  },
  {
   "cell_type": "markdown",
   "id": "711e6b8a",
   "metadata": {},
   "source": [
    "## Fig. 2"
   ]
  },
  {
   "cell_type": "markdown",
   "id": "d2568156",
   "metadata": {},
   "source": [
    "### Generate random structures and compute exponents"
   ]
  },
  {
   "cell_type": "code",
   "execution_count": 14,
   "id": "547f0b5a",
   "metadata": {},
   "outputs": [
    {
     "name": "stderr",
     "output_type": "stream",
     "text": [
      "/Users/maxime/Dropbox (ISI Foundation)/WORK/SCIENCE/xgi/venv/lib/python3.9/site-packages/scipy/sparse/compressed.py:291: SparseEfficiencyWarning: Comparing a sparse matrix with a scalar greater than zero using < is inefficient, try using >= instead.\n",
      "  warn(bad_scalar_msg, SparseEfficiencyWarning)\n",
      "/Users/maxime/Dropbox (ISI Foundation)/WORK/SCIENCE/xgi/venv/lib/python3.9/site-packages/scipy/sparse/_index.py:125: SparseEfficiencyWarning: Changing the sparsity structure of a csr_matrix is expensive. lil_matrix is more efficient.\n",
      "  self._set_arrayXarray(i, j, x)\n"
     ]
    }
   ],
   "source": [
    "N = 50 # number of nodes\n",
    "\n",
    "p_1s = [0.2, 0.4, 0.6, 0.8] # wiring probability of 1-hyperedges\n",
    "p_2 = 0.05 # wiring probability of 2-hyperedges\n",
    "alphas = np.arange(0, 1.01, 0.05)\n",
    "\n",
    "HGs_2 = []\n",
    "lyaps_HG_2 = np.zeros((len(p_1s), len(alphas), N))\n",
    "\n",
    "for j, p_1 in enumerate(p_1s): \n",
    "    \n",
    "    ps = [p_1, p_2] # ps[i] is the wiring probability of any i+2 nodes (ps[0] is for edges, e.g.)\n",
    "\n",
    "    # generate hyperedges \n",
    "    HG = xgi.random_hypergraph(N, ps, seed=0)\n",
    "    HGs_2.append(HG)\n",
    "    \n",
    "    # compute exponents\n",
    "    for i, alpha in enumerate(alphas) : \n",
    "        lyap_1 = compute_eigenvalues(HG, order=1, weight=1-alpha)\n",
    "        lyap_2 = compute_eigenvalues(HG, order=2, weight=alpha)\n",
    "        lyap_multi = compute_eigenvalues_multi(HG, orders=[1, 2], weights=[1-alpha, alpha])\n",
    "        \n",
    "        lyap_multi = np.sort(lyap_multi)[::-1] \n",
    "        lyaps_HG_2[j, i, :] = lyap_multi "
   ]
  },
  {
   "cell_type": "code",
   "execution_count": 15,
   "id": "e7ade8c5",
   "metadata": {},
   "outputs": [],
   "source": [
    "def bound_multi(H, alpha, rescale_per_node=True) : \n",
    "    \"\"\"Returns the lower bound N/(N-1) k_min\n",
    "    \n",
    "    Parameters\n",
    "    ----------\n",
    "    HG : xgi.HyperGraph\n",
    "        Hypergraph\n",
    "    orders : list of int\n",
    "        Orders of interactions to consider.\n",
    "    weights: list of float\n",
    "        Weight of each order, i.e coupling strenghts gamma_i in [1]_.\n",
    "    rescale_per_node: bool, (default=False)\n",
    "        Whether to rescale each Laplacian of order d by d (per node).\n",
    "    \n",
    "    Returns\n",
    "    -------\n",
    "    float, bound of the Lyapunov exponent\n",
    "    \"\"\"\n",
    "    L_multi = xgi.multiorder_laplacian(H, orders=[1,2], weights=[1-alpha, alpha],\n",
    "                                   rescale_per_node=rescale_per_node)\n",
    "    K_multi = np.diag(L_multi)\n",
    "    N = H.num_nodes\n",
    "    return - (N / (N - 1)) * np.min(K_multi)"
   ]
  },
  {
   "cell_type": "code",
   "execution_count": 16,
   "id": "83b228e9",
   "metadata": {},
   "outputs": [],
   "source": [
    "# compute theoretical bound\n",
    "bound = np.array([bound_multi(HGs_2[-1], alpha) for alpha in alphas])"
   ]
  },
  {
   "cell_type": "markdown",
   "id": "3499a47a",
   "metadata": {},
   "source": [
    "### Plot results"
   ]
  },
  {
   "cell_type": "code",
   "execution_count": 17,
   "id": "465e818c",
   "metadata": {},
   "outputs": [
    {
     "data": {
      "image/png": "[encoded data removed]",
      "text/plain": [
       "<Figure size 288x194.4 with 2 Axes>"
      ]
     },
     "metadata": {},
     "output_type": "display_data"
    }
   ],
   "source": [
    "fig, ax = plt.subplots(figsize=(4, 2.7))\n",
    "\n",
    "# set gradient palette (might need to re-run to make it effective)\n",
    "palette = sb.dark_palette(\"#69d\", reverse=True)\n",
    "sb.set_palette(palette)\n",
    "\n",
    "# plot curves\n",
    "for i, p_1 in enumerate(p_1s) : \n",
    "    ax.plot(alphas, lyaps_HG_2[i,:,1], 'o-', label=f\"$p={p_1:.1f}$\", ms=5)\n",
    "\n",
    "ax.set_ylabel(r\"$\\lambda_2$\")\n",
    "ax.set_xlabel(r\"$\\alpha$\")\n",
    "\n",
    "ax.set_yticks([-0.5, -0.7, -0.9])\n",
    "ax.set_xticks([0, 0.5, 1])\n",
    "\n",
    "ax.legend(frameon=False, loc=\"center left\", bbox_to_anchor=(1,0.2))\n",
    "\n",
    "# add inset with bound\n",
    "# Create inset of width 30% and height 40% of the parent axes' bounding box\n",
    "# at the lower left corner (loc=3)\n",
    "axins = inset_axes(ax, width=\"40%\", height=\"40%\")\n",
    "k = 3\n",
    "axins.plot(alphas, lyaps_HG_2[k,:,1], 'o-', c=f\"C{k}\",  label=f\"$p={p_1s[k]:.1f}$\", ms=5)\n",
    "axins.plot(alphas, bound, '--', label='bound', c=\"grey\")\n",
    "\n",
    "axins.set_ylabel(r\"$\\lambda_2$\")\n",
    "axins.set_xlabel(r\"$\\alpha$\")\n",
    "axins.set_yticklabels([])\n",
    "\n",
    "axins.legend(frameon=False, loc=\"center left\", bbox_to_anchor=(1,0.5))\n",
    "\n",
    "sb.despine()\n",
    "\n",
    "ax.text(0.99, 0.02, \"(a)\", transform=ax.transAxes, va=\"bottom\", ha=\"right\", weight=\"bold\")\n",
    "axins.text(0.015, 0.03, \"(b)\", transform=axins.transAxes, va=\"bottom\", ha=\"left\", weight=\"bold\")\n",
    "\n",
    "fig_name = f\"phase_diagram_lines_p2_{p_2}\"\n",
    "# plt.savefig(f\"{fig_name}.pdf\", dpi=250, bbox_inches=\"tight\")\n",
    "\n",
    "plt.show()"
   ]
  },
  {
   "cell_type": "code",
   "execution_count": null,
   "id": "2429b9e3",
   "metadata": {},
   "outputs": [],
   "source": []
  }
 ],
 "metadata": {
  "interpreter": {
   "hash": "bc8d1588678c776a26450e4b782892f64130ed05f7c13fe074e48a5fbbb10da3"
  },
  "kernelspec": {
   "display_name": "venv",
   "language": "python",
   "name": "python3"
  },
  "language_info": {
   "codemirror_mode": {
    "name": "ipython",
    "version": 3
   },
   "file_extension": ".py",
   "mimetype": "text/x-python",
   "name": "python",
   "nbconvert_exporter": "python",
   "pygments_lexer": "ipython3",
   "version": "3.9.1"
  },
  "toc": {
   "base_numbering": 1,
   "nav_menu": {},
   "number_sections": true,
   "sideBar": true,
   "skip_h1_title": false,
   "title_cell": "Table of Contents",
   "title_sidebar": "Contents",
   "toc_cell": false,
   "toc_position": {},
   "toc_section_display": true,
   "toc_window_display": false
  }
 },
 "nbformat": 4,
 "nbformat_minor": 5
}
