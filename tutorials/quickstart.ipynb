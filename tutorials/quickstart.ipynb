{
 "cells": [
  {
   "cell_type": "markdown",
   "metadata": {},
   "source": [
    "# Getting started with XGI\n",
    "<div>\n",
    "<img src=\"../logo/logo.svg\" width=\"200\"/>\n",
    "</div>\n",
    "\n",
    "XGI is a Python library to make working with and analyzing complex systems with higher-order interactions easy.\n",
    "\n",
    "We start off by loading the XGI library."
   ]
  },
  {
   "cell_type": "code",
   "execution_count": 51,
   "metadata": {},
   "outputs": [],
   "source": [
    "import xgi\n",
    "import numpy as np\n",
    "import pandas as pd\n",
    "from IPython.display import display"
   ]
  },
  {
   "cell_type": "markdown",
   "metadata": {},
   "source": [
    "## Creating a hypergraph"
   ]
  },
  {
   "cell_type": "markdown",
   "metadata": {},
   "source": [
    "We want to start with a hypergraph, and this can be done in one of four ways:\n",
    "1. Build a hypergraph node-by-node and edge-by-edge (less common, but can be helpful in writing your own generative models)\n",
    "2. Load an existing dataset\n",
    "3. Sample from a random generative model\n",
    "\n",
    "Let's start with the first method."
   ]
  },
  {
   "cell_type": "code",
   "execution_count": 4,
   "metadata": {},
   "outputs": [],
   "source": [
    "H = xgi.Hypergraph()\n",
    "H.add_edge([1, 2], id=\"a\")\n",
    "H.add_node(0)\n",
    "H.add_edges_from([[3, 4], [0, 2, 3]])\n",
    "H.add_nodes_from([9, 10])"
   ]
  },
  {
   "cell_type": "markdown",
   "metadata": {},
   "source": [
    "XGI automatically assigns unique edge IDs (if a user doesn't specify the ID)"
   ]
  },
  {
   "cell_type": "code",
   "execution_count": 5,
   "metadata": {},
   "outputs": [
    {
     "data": {
      "text/plain": [
       "EdgeView(('a', 0, 1))"
      ]
     },
     "execution_count": 5,
     "metadata": {},
     "output_type": "execute_result"
    }
   ],
   "source": [
    "H.edges"
   ]
  },
  {
   "cell_type": "markdown",
   "metadata": {},
   "source": [
    "EdgeViews, NodeViews, and all other view classes are implemented so that users can access many different types of data. For example:"
   ]
  },
  {
   "cell_type": "code",
   "execution_count": 6,
   "metadata": {},
   "outputs": [
    {
     "name": "stdout",
     "output_type": "stream",
     "text": [
      "{1: ['a'], 2: ['a', 1], 0: [1], 3: [0, 1], 4: [0], 9: [], 10: []}\n",
      "{1: 1, 2: 2, 0: 1, 3: 2, 4: 1, 9: 0, 10: 0}\n",
      "[[1, 2], [3, 4], [0, 2, 3]]\n",
      "[2 2 3]\n"
     ]
    }
   ],
   "source": [
    "print(H.nodes.memberships())\n",
    "print(H.nodes.degree.asdict())\n",
    "print(H.edges.members(dtype=list))\n",
    "print(H.edges.size.asnumpy())"
   ]
  },
  {
   "cell_type": "markdown",
   "metadata": {},
   "source": [
    "Moving on to method 2, one can load datasets in several different ways. First, we provide a companion data repository, [xgi-data](https://github.com/ComplexGroupInteractions/xgi-data), where users can easily load several datasets in standard format:"
   ]
  },
  {
   "cell_type": "code",
   "execution_count": 7,
   "metadata": {},
   "outputs": [],
   "source": [
    "H = xgi.load_xgi_data(\"email-enron\")"
   ]
  },
  {
   "cell_type": "markdown",
   "metadata": {},
   "source": [
    "This dataset, for example, has a corresponding [datasheet](https://github.com/ComplexGroupInteractions/xgi-data/blob/main/data/email-Enron/README_email-Enron.md) explaining its characteristics. The nodes (individuals) in this dataset contain associated email addresses and the edges (emails) contain associated timestamps. These attributes can be accessed by simply typing `H.nodes[id]` or `H.edges[id]` respectively."
   ]
  },
  {
   "cell_type": "code",
   "execution_count": 21,
   "metadata": {},
   "outputs": [
    {
     "name": "stdout",
     "output_type": "stream",
     "text": [
      "The first 10 node IDs are:\n",
      "['4', '1', '117', '129', '51', '41', '65', '107', '122', '29']\n",
      "\n",
      "The first 10 edge IDs are:\n",
      "['0', '1', '2', '3', '4', '5', '6', '7', '8', '9']\n",
      "\n",
      "The attributes of node '4' are\n",
      "{'name': 'robert.badeer@enron.com'}\n",
      "\n",
      "The attributes of edge '6' are\n",
      "{'timestamp': '2000-02-22T08:07:00'}\n"
     ]
    }
   ],
   "source": [
    "print(\"The first 10 node IDs are:\")\n",
    "print(list(H.nodes)[:10])\n",
    "print(\"\\nThe first 10 edge IDs are:\")\n",
    "print(list(H.edges)[:10])\n",
    "print(\"\\nThe attributes of node '4' are\")\n",
    "print(H.nodes[\"4\"])\n",
    "print(\"\\nThe attributes of edge '6' are\")\n",
    "print(H.edges[\"6\"])"
   ]
  },
  {
   "cell_type": "markdown",
   "metadata": {},
   "source": [
    "Likewise, one can load from a file. For example, in the `data` folder, there is a disease-gene hypergraph in bipartite edgelist format, where nodes are diseases and edges are genes. We can read in this dataset:"
   ]
  },
  {
   "cell_type": "code",
   "execution_count": 23,
   "metadata": {},
   "outputs": [],
   "source": [
    "H = xgi.read_bipartite_edgelist(\"../data/disGene.txt\")"
   ]
  },
  {
   "cell_type": "markdown",
   "metadata": {},
   "source": [
    "We can find out basic statistics of this dataset like number of nodes and edges."
   ]
  },
  {
   "cell_type": "code",
   "execution_count": 32,
   "metadata": {},
   "outputs": [
    {
     "name": "stdout",
     "output_type": "stream",
     "text": [
      "The hypergraph has 12368 nodes and 2261 edges\n"
     ]
    }
   ],
   "source": [
    "print(f\"The hypergraph has {H.num_nodes} nodes and {H.num_edges} edges\")"
   ]
  },
  {
   "cell_type": "markdown",
   "metadata": {},
   "source": [
    "We may also be interested in the hypergraph formed by considering nodes to be genes and edges to be diseases. This is known as the *dual* of the original hypergraph:"
   ]
  },
  {
   "cell_type": "code",
   "execution_count": 33,
   "metadata": {},
   "outputs": [
    {
     "name": "stdout",
     "output_type": "stream",
     "text": [
      "The hypergraph has 2261 nodes and 12368 edges\n"
     ]
    }
   ],
   "source": [
    "D = H.dual()\n",
    "print(f\"The hypergraph has {D.num_nodes} nodes and {D.num_edges} edges\")"
   ]
  },
  {
   "cell_type": "markdown",
   "metadata": {},
   "source": [
    "Lastly, we can create  synthetic hypergraphs using random generative models. For example, we can extract the degree and edge size sequence and wire them together at random (according to the Chung-Lu model) to create a random null model:"
   ]
  },
  {
   "cell_type": "code",
   "execution_count": 34,
   "metadata": {},
   "outputs": [],
   "source": [
    "k = H.nodes.degree.asdict()\n",
    "s = H.edges.size.asdict()\n",
    "\n",
    "H_random = xgi.chung_lu_hypergraph(k, s)"
   ]
  },
  {
   "cell_type": "markdown",
   "metadata": {},
   "source": [
    "## Basic functionality\n",
    "\n",
    "In this section, we describe how to get\n",
    "* connectivity and assortativity of a hypergraph\n",
    "* statistics of the nodes and edges\n",
    "* matrices associated to the hypergraph\n",
    "\n",
    "Consider the random hypergraph we just created. Let's check whether it's connected and if not, the sizes of the connected components:"
   ]
  },
  {
   "cell_type": "code",
   "execution_count": 52,
   "metadata": {},
   "outputs": [
    {
     "name": "stdout",
     "output_type": "stream",
     "text": [
      "The connected components\n"
     ]
    },
    {
     "data": {
      "text/html": [
       "<div>\n",
       "<style scoped>\n",
       "    .dataframe tbody tr th:only-of-type {\n",
       "        vertical-align: middle;\n",
       "    }\n",
       "\n",
       "    .dataframe tbody tr th {\n",
       "        vertical-align: top;\n",
       "    }\n",
       "\n",
       "    .dataframe thead th {\n",
       "        text-align: right;\n",
       "    }\n",
       "</style>\n",
       "<table border=\"1\" class=\"dataframe\">\n",
       "  <thead>\n",
       "    <tr style=\"text-align: right;\">\n",
       "      <th></th>\n",
       "      <th>size</th>\n",
       "      <th>number</th>\n",
       "    </tr>\n",
       "  </thead>\n",
       "  <tbody>\n",
       "    <tr>\n",
       "      <th>0</th>\n",
       "      <td>1</td>\n",
       "      <td>10905</td>\n",
       "    </tr>\n",
       "    <tr>\n",
       "      <th>1</th>\n",
       "      <td>1463</td>\n",
       "      <td>1</td>\n",
       "    </tr>\n",
       "  </tbody>\n",
       "</table>\n",
       "</div>"
      ],
      "text/plain": [
       "   size  number\n",
       "0     1   10905\n",
       "1  1463       1"
      ]
     },
     "metadata": {},
     "output_type": "display_data"
    }
   ],
   "source": [
    "connected = xgi.is_connected(H_random)\n",
    "if not connected:\n",
    "    size, num = np.unique([len(cc) for cc in xgi.connected_components(H_random)], return_counts=True)\n",
    "    print(f\"The connected components:\")\n",
    "    display(pd.DataFrame([size, num], columns=[\"size\", \"number\"]))"
   ]
  },
  {
   "cell_type": "markdown",
   "metadata": {},
   "source": [
    "Likewise, we can also look at the assortativity. Using two of the definitions of assortativity in \"Configuration models of random hypergraphs\" by Phil Chodrow, we compute"
   ]
  },
  {
   "cell_type": "code",
   "execution_count": 60,
   "metadata": {},
   "outputs": [
    {
     "name": "stdout",
     "output_type": "stream",
     "text": [
      "The uniform assortativity of the hypergraph is -0.013933394525031818\n",
      "The top-2 assortativity of the hypergraph is 0.704093964828371\n",
      "The top-bottom assortativity of the hypergraph is -0.6208525361267561\n"
     ]
    }
   ],
   "source": [
    "print(f\"The uniform assortativity of the hypergraph is {xgi.degree_assortativity(H_random, kind='uniform')}\")\n",
    "print(f\"The top-2 assortativity of the hypergraph is {xgi.degree_assortativity(H_random, kind='top-2')}\")\n",
    "print(f\"The top-bottom assortativity of the hypergraph is {xgi.degree_assortativity(H_random, kind='top-bottom')}\")"
   ]
  },
  {
   "cell_type": "markdown",
   "metadata": {},
   "source": [
    "### The power of NodeStats and EdgeStats\n",
    "\n",
    "XGI has a powerful interface for manipulating statistics associated with nodes (degrees, centralities, community labels, etc.) and edges (edge size, etc.). One can return different datatypes, compute basic statistics, and much more:"
   ]
  },
  {
   "cell_type": "code",
   "execution_count": 68,
   "metadata": {},
   "outputs": [
    {
     "name": "stdout",
     "output_type": "stream",
     "text": [
      "The min degree is 1, the max degree is 382, and the mean degree is 9.183457309184993\n"
     ]
    },
    {
     "data": {
      "text/plain": [
       "<AxesSubplot:>"
      ]
     },
     "execution_count": 68,
     "metadata": {},
     "output_type": "execute_result"
    },
    {
     "data": {
      "image/png": "[encoded data removed]",
      "text/plain": [
       "<Figure size 432x288 with 1 Axes>"
      ]
     },
     "metadata": {
      "needs_background": "light"
     },
     "output_type": "display_data"
    }
   ],
   "source": [
    "print(f\"The min degree is {H.nodes.degree.min()}, the max degree is {H.nodes.degree.max()}, and the mean degree is {H.nodes.degree.mean()}\")\n",
    "H.nodes.degree.aspandas().hist(bins=100)"
   ]
  },
  {
   "cell_type": "markdown",
   "metadata": {},
   "source": [
    "Likewise, for edges,"
   ]
  },
  {
   "cell_type": "code",
   "execution_count": 70,
   "metadata": {},
   "outputs": [
    {
     "name": "stdout",
     "output_type": "stream",
     "text": [
      "The min edge size is 1, the max edge size is 2453, and the mean edge size is 50.234851835471034\n"
     ]
    },
    {
     "data": {
      "text/plain": [
       "<AxesSubplot:>"
      ]
     },
     "execution_count": 70,
     "metadata": {},
     "output_type": "execute_result"
    },
    {
     "data": {
      "image/png": "[encoded data removed]",
      "text/plain": [
       "<Figure size 432x288 with 1 Axes>"
      ]
     },
     "metadata": {
      "needs_background": "light"
     },
     "output_type": "display_data"
    }
   ],
   "source": [
    "print(f\"The min edge size is {H.edges.size.min()}, the max edge size is {H.edges.size.max()}, and the mean edge size is {H.edges.size.mean()}\")\n",
    "H.edges.size.aspandas().hist(bins=100)"
   ]
  },
  {
   "cell_type": "markdown",
   "metadata": {},
   "source": [
    "## Visualization\n",
    "\n",
    "This is a quick demonstration to show how to visualize a hypergraph."
   ]
  },
  {
   "cell_type": "code",
   "execution_count": 82,
   "metadata": {},
   "outputs": [],
   "source": [
    "# xgi.draw(H_random)"
   ]
  },
  {
   "cell_type": "code",
   "execution_count": null,
   "metadata": {},
   "outputs": [],
   "source": []
  }
 ],
 "metadata": {
  "kernelspec": {
   "display_name": "Python 3.10.4 ('hypergraph')",
   "language": "python",
   "name": "python3"
  },
  "language_info": {
   "codemirror_mode": {
    "name": "ipython",
    "version": 3
   },
   "file_extension": ".py",
   "mimetype": "text/x-python",
   "name": "python",
   "nbconvert_exporter": "python",
   "pygments_lexer": "ipython3",
   "version": "3.10.4"
  },
  "orig_nbformat": 4,
  "vscode": {
   "interpreter": {
    "hash": "fdeb83b6e5b2333358b6ba79181fac315f1a722b4574d7079c134c9ae27f7c53"
   }
  }
 },
 "nbformat": 4,
 "nbformat_minor": 2
}
