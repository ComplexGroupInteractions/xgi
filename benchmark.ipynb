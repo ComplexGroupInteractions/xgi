{
 "cells": [
  {
   "cell_type": "code",
   "execution_count": 1,
   "metadata": {},
   "outputs": [],
   "source": [
    "import hypernetx as hnx\n",
    "import xgi\n",
    "import pandas as pd\n",
    "import time"
   ]
  },
  {
   "cell_type": "code",
   "execution_count": 2,
   "metadata": {},
   "outputs": [],
   "source": [
    "fname = \"data/disGene.txt\"\n",
    "df = pd.read_csv(fname, delimiter=\" \", header=None)"
   ]
  },
  {
   "cell_type": "code",
   "execution_count": 3,
   "metadata": {},
   "outputs": [
    {
     "name": "stdout",
     "output_type": "stream",
     "text": [
      "0.33559584617614746\n"
     ]
    },
    {
     "data": {
      "text/plain": [
       "(2261, 12368)"
      ]
     },
     "execution_count": 3,
     "metadata": {},
     "output_type": "execute_result"
    }
   ],
   "source": [
    "start = time.time()\n",
    "H1 = xgi.Hypergraph(df)\n",
    "H1 = H1.dual()\n",
    "print(time.time() - start)\n",
    "H1.shape"
   ]
  },
  {
   "cell_type": "code",
   "execution_count": 4,
   "metadata": {},
   "outputs": [
    {
     "name": "stdout",
     "output_type": "stream",
     "text": [
      "19.365208387374878\n"
     ]
    },
    {
     "data": {
      "text/plain": [
       "(2261, 12368)"
      ]
     },
     "execution_count": 4,
     "metadata": {},
     "output_type": "execute_result"
    }
   ],
   "source": [
    "start = time.time()\n",
    "H2 = hnx.Hypergraph(df, static=True)\n",
    "print(time.time() - start)\n",
    "H2.shape"
   ]
  },
  {
   "cell_type": "code",
   "execution_count": 5,
   "metadata": {},
   "outputs": [
    {
     "name": "stdout",
     "output_type": "stream",
     "text": [
      "0.08783912658691406\n",
      "0.001967906951904297\n"
     ]
    }
   ],
   "source": [
    "start = time.time()\n",
    "I1 = xgi.incidence_matrix(H1)\n",
    "print(time.time() - start)\n",
    "\n",
    "start = time.time()\n",
    "I2 = H2.incidence_matrix()\n",
    "print(time.time() - start)"
   ]
  },
  {
   "cell_type": "code",
   "execution_count": 6,
   "metadata": {},
   "outputs": [
    {
     "name": "stdout",
     "output_type": "stream",
     "text": [
      "0.23723101615905762\n",
      "5.207367420196533\n"
     ]
    }
   ],
   "source": [
    "start = time.time()\n",
    "H1.dual()\n",
    "print(time.time() - start)\n",
    "\n",
    "start = time.time()\n",
    "H2.dual()\n",
    "print(time.time() - start)"
   ]
  },
  {
   "cell_type": "code",
   "execution_count": 7,
   "metadata": {},
   "outputs": [
    {
     "name": "stdout",
     "output_type": "stream",
     "text": [
      "0.15181589126586914\n",
      "0.06401252746582031\n"
     ]
    }
   ],
   "source": [
    "start = time.time()\n",
    "xgi.adjacency_matrix(H1)\n",
    "print(time.time() - start)\n",
    "\n",
    "start = time.time()\n",
    "H2.adjacency_matrix()\n",
    "print(time.time() - start)"
   ]
  },
  {
   "cell_type": "code",
   "execution_count": 8,
   "metadata": {},
   "outputs": [
    {
     "name": "stdout",
     "output_type": "stream",
     "text": [
      "0.14442706108093262\n",
      "0.7197976112365723\n"
     ]
    }
   ],
   "source": [
    "start = time.time()\n",
    "xgi.to_hyperedge_dict(H1)\n",
    "print(time.time() - start)\n",
    "\n",
    "start = time.time()\n",
    "H2.incidence_dict\n",
    "print(time.time() - start)"
   ]
  },
  {
   "cell_type": "code",
   "execution_count": 10,
   "metadata": {},
   "outputs": [
    {
     "name": "stdout",
     "output_type": "stream",
     "text": [
      "0.0019845962524414062\n",
      "0.14178681373596191\n"
     ]
    }
   ],
   "source": [
    "start = time.time()\n",
    "for node in H1.nodes:\n",
    "    a = H1.nodes[node]\n",
    "print(time.time() - start)\n",
    "\n",
    "start = time.time()\n",
    "for node in H2.nodes:\n",
    "    a = H2.nodes[node]\n",
    "print(time.time() - start)"
   ]
  },
  {
   "cell_type": "code",
   "execution_count": 11,
   "metadata": {},
   "outputs": [
    {
     "name": "stdout",
     "output_type": "stream",
     "text": [
      "0.2020864486694336\n",
      "1.7170355319976807\n"
     ]
    }
   ],
   "source": [
    "start = time.time()\n",
    "xgi.is_connected(H1)\n",
    "print(time.time() - start)\n",
    "\n",
    "start = time.time()\n",
    "H2.is_connected()\n",
    "print(time.time() - start)"
   ]
  }
 ],
 "metadata": {
  "interpreter": {
   "hash": "e8c90be8a507c947d600755d98ec41f3a8064ae1d46b0505dd1a3ad2a7800759"
  },
  "kernelspec": {
   "display_name": "Python 3.9.7 64-bit (conda)",
   "language": "python",
   "name": "python3"
  },
  "language_info": {
   "codemirror_mode": {
    "name": "ipython",
    "version": 3
   },
   "file_extension": ".py",
   "mimetype": "text/x-python",
   "name": "python",
   "nbconvert_exporter": "python",
   "pygments_lexer": "ipython3",
   "version": "3.9.7"
  },
  "orig_nbformat": 4
 },
 "nbformat": 4,
 "nbformat_minor": 2
}
