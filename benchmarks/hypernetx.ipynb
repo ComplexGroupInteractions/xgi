{
 "cells": [
  {
   "cell_type": "markdown",
   "metadata": {},
   "source": [
    "### Benchmark with HyperNetX\n",
    "\n",
    "This notebook provides a comparison to HyperNetX for running several algorithms, calculating measures, and accessing properties. It is necessary to install the benchmarks [requirements file](../requirements/benchmarks.txt) to run this notebook."
   ]
  },
  {
   "cell_type": "code",
   "execution_count": 2,
   "metadata": {},
   "outputs": [],
   "source": [
    "import hypernetx as hnx\n",
    "import xgi\n",
    "import pandas as pd\n",
    "import time"
   ]
  },
  {
   "cell_type": "code",
   "execution_count": 3,
   "metadata": {},
   "outputs": [],
   "source": [
    "fname = \"../data/disGene.txt\"\n",
    "df = pd.read_csv(fname, delimiter=\" \", header=None)"
   ]
  },
  {
   "cell_type": "code",
   "execution_count": 7,
   "metadata": {},
   "outputs": [
    {
     "name": "stdout",
     "output_type": "stream",
     "text": [
      "XGI construction time: 0.32489514350891113 sec\n"
     ]
    },
    {
     "data": {
      "text/plain": [
       "(2261, 12368)"
      ]
     },
     "execution_count": 7,
     "metadata": {},
     "output_type": "execute_result"
    }
   ],
   "source": [
    "start = time.time()\n",
    "H1 = xgi.Hypergraph(df)\n",
    "H1 = H1.dual()\n",
    "print(f\"XGI construction time: {time.time() - start} sec\")\n",
    "print(f\"The hypergraph has {H1.num_nodes} nodes and {H1.num_edges} edges.\")\n",
    "\n",
    "start = time.time()\n",
    "H2 = hnx.Hypergraph(df, static=True)\n",
    "print(f\"HyperNetX construction time: {time.time() - start} sec\")\n",
    "print(f\"The hypergraph has {H2.number_of_nodes()} nodes and {H1.number_of_edges()} edges.\")"
   ]
  },
  {
   "cell_type": "code",
   "execution_count": 10,
   "metadata": {},
   "outputs": [
    {
     "name": "stdout",
     "output_type": "stream",
     "text": [
      "XGI dual hypergraph construction time\n",
      "173 ms ± 2.15 ms per loop (mean ± std. dev. of 7 runs, 10 loops each)\n",
      "HyperNetX dual hypergraph construction time\n",
      "4.99 s ± 129 ms per loop (mean ± std. dev. of 7 runs, 1 loop each)\n"
     ]
    }
   ],
   "source": [
    "print(\"XGI dual hypergraph construction time:\")\n",
    "%timeit H1.dual()\n",
    "\n",
    "print(\"HyperNetX dual hypergraph construction time:\")\n",
    "%timeit H2.dual()"
   ]
  },
  {
   "cell_type": "code",
   "execution_count": 9,
   "metadata": {},
   "outputs": [
    {
     "name": "stdout",
     "output_type": "stream",
     "text": [
      "XGI incidence matrix construction time\n",
      "108 ms ± 1.57 ms per loop (mean ± std. dev. of 7 runs, 10 loops each)\n",
      "HyperNetX incidence matrix construction time\n",
      "300 ns ± 3.31 ns per loop (mean ± std. dev. of 7 runs, 1000000 loops each)\n"
     ]
    }
   ],
   "source": [
    "print(\"XGI incidence matrix construction time:\")\n",
    "%timeit I1 = xgi.incidence_matrix(H1)\n",
    "print(\"HyperNetX incidence matrix construction time:\")\n",
    "%timeit I2 = H2.incidence_matrix()"
   ]
  },
  {
   "cell_type": "code",
   "execution_count": 11,
   "metadata": {},
   "outputs": [
    {
     "name": "stdout",
     "output_type": "stream",
     "text": [
      "XGI adjacency matrix construction time:\n",
      "187 ms ± 4.15 ms per loop (mean ± std. dev. of 7 runs, 1 loop each)\n",
      "HyperNetX adjacency matrix construction time:\n",
      "67.4 ms ± 626 µs per loop (mean ± std. dev. of 7 runs, 10 loops each)\n"
     ]
    }
   ],
   "source": [
    "print(\"XGI adjacency matrix construction time:\")\n",
    "%timeit xgi.adjacency_matrix(H1)\n",
    "\n",
    "print(\"HyperNetX adjacency matrix construction time:\")\n",
    "%timeit H2.adjacency_matrix()"
   ]
  },
  {
   "cell_type": "code",
   "execution_count": 12,
   "metadata": {},
   "outputs": [
    {
     "name": "stdout",
     "output_type": "stream",
     "text": [
      "XGI adjacency dictionary retrieval time:\n",
      "79.9 ms ± 2.5 ms per loop (mean ± std. dev. of 7 runs, 10 loops each)\n",
      "XGI adjacency dictionary retrieval time:\n",
      "497 ms ± 6.91 ms per loop (mean ± std. dev. of 7 runs, 1 loop each)\n"
     ]
    }
   ],
   "source": [
    "print(\"XGI adjacency dictionary retrieval time:\")\n",
    "%timeit xgi.to_hyperedge_dict(H1)\n",
    "\n",
    "print(\"XGI adjacency dictionary retrieval time:\")\n",
    "%timeit H2.incidence_dict"
   ]
  },
  {
   "cell_type": "code",
   "execution_count": 14,
   "metadata": {},
   "outputs": [
    {
     "name": "stdout",
     "output_type": "stream",
     "text": [
      "XGI node memberships retrieval time:\n",
      "0.0033118724822998047\n",
      "HyperNetX node memberships retrieval time:\n",
      "0.1452326774597168\n"
     ]
    }
   ],
   "source": [
    "print(\"XGI node memberships retrieval time:\")\n",
    "start = time.time()\n",
    "for node in H1.nodes:\n",
    "    a = H1.nodes.memberships(node)\n",
    "print(f\"{time.time() - start} sec\")\n",
    "\n",
    "print(\"HyperNetX node memberships retrieval time:\")\n",
    "start = time.time()\n",
    "for node in H2.nodes:\n",
    "    a = H2.nodes.memberships[node]\n",
    "print(f\"{time.time() - start} sec\")"
   ]
  },
  {
   "cell_type": "code",
   "execution_count": 15,
   "metadata": {},
   "outputs": [
    {
     "name": "stdout",
     "output_type": "stream",
     "text": [
      "XGI hyperedge retrieval time:\n",
      "0.01334691047668457\n",
      "HyperNetX hyperedge retrieval time:\n",
      "7.030780553817749\n"
     ]
    }
   ],
   "source": [
    "print(\"XGI hyperedge retrieval time:\")\n",
    "start = time.time()\n",
    "for edge in H1.edges:\n",
    "    a = H1.edges.members(edge)\n",
    "print(f\"{time.time() - start} sec\")\n",
    "\n",
    "print(\"HyperNetX hyperedge retrieval time:\")\n",
    "start = time.time()\n",
    "for node in H2.nodes:\n",
    "    a = H2.edges[edge]\n",
    "print(f\"{time.time() - start} sec\")"
   ]
  },
  {
   "cell_type": "code",
   "execution_count": 16,
   "metadata": {},
   "outputs": [
    {
     "name": "stdout",
     "output_type": "stream",
     "text": [
      "XGI time to determine connectedness:\n",
      "226 ms ± 5.43 ms per loop (mean ± std. dev. of 7 runs, 1 loop each)\n",
      "HyperNetX time to determine connectedness:\n",
      "75 ms ± 1.71 ms per loop (mean ± std. dev. of 7 runs, 1 loop each)\n"
     ]
    }
   ],
   "source": [
    "print(\"XGI time to determine connectedness:\")\n",
    "%timeit xgi.is_connected(H1)\n",
    "\n",
    "print(\"HyperNetX time to determine connectedness:\")\n",
    "%timeit H2.is_connected()"
   ]
  },
  {
   "cell_type": "code",
   "execution_count": 21,
   "metadata": {},
   "outputs": [
    {
     "name": "stdout",
     "output_type": "stream",
     "text": [
      "XGI time to construct Chung-Lu hypergraph:\n",
      "295 ms ± 11.6 ms per loop (mean ± std. dev. of 7 runs, 1 loop each)\n",
      "HyperNetX time to construct Chung-Lu hypergraph:\n",
      "25.5 s ± 901 ms per loop (mean ± std. dev. of 7 runs, 1 loop each)\n"
     ]
    }
   ],
   "source": [
    "k1 = H1.degree(dtype=\"dict\")[H1.nodes]\n",
    "k2 = H1.edge_size(dtype=\"dict\")[H1.edges]\n",
    "\n",
    "print(\"XGI time to construct Chung-Lu hypergraph:\")\n",
    "%timeit xgi.chung_lu_hypergraph(k1, k2)\n",
    "\n",
    "print(\"HyperNetX time to construct Chung-Lu hypergraph:\")\n",
    "%timeit hnx.chung_lu_hypergraph(k1, k2)"
   ]
  },
  {
   "cell_type": "code",
   "execution_count": null,
   "metadata": {},
   "outputs": [],
   "source": []
  }
 ],
 "metadata": {
  "interpreter": {
   "hash": "fdeb83b6e5b2333358b6ba79181fac315f1a722b4574d7079c134c9ae27f7c53"
  },
  "kernelspec": {
   "display_name": "Python 3.9.7",
   "language": "python",
   "name": "python3"
  },
  "language_info": {
   "codemirror_mode": {
    "name": "ipython",
    "version": 3
   },
   "file_extension": ".py",
   "mimetype": "text/x-python",
   "name": "python",
   "nbconvert_exporter": "python",
   "pygments_lexer": "ipython3",
   "version": "3.9.7"
  }
 },
 "nbformat": 4,
 "nbformat_minor": 2
}
