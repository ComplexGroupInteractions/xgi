{
 "cells": [
  {
   "cell_type": "code",
   "execution_count": 11,
   "metadata": {},
   "outputs": [],
   "source": [
    "import hypernetx as hnx\n",
    "import xgi\n",
    "import pandas as pd\n",
    "import time"
   ]
  },
  {
   "cell_type": "code",
   "execution_count": 12,
   "metadata": {},
   "outputs": [],
   "source": [
    "fname = \"../data/disGene.txt\"\n",
    "df = pd.read_csv(fname, delimiter=\" \", header=None)"
   ]
  },
  {
   "cell_type": "code",
   "execution_count": 13,
   "metadata": {},
   "outputs": [
    {
     "name": "stdout",
     "output_type": "stream",
     "text": [
      "0.9091813564300537\n"
     ]
    },
    {
     "data": {
      "text/plain": [
       "(2261, 12368)"
      ]
     },
     "execution_count": 13,
     "metadata": {},
     "output_type": "execute_result"
    }
   ],
   "source": [
    "start = time.time()\n",
    "H1 = xgi.Hypergraph(df)\n",
    "H1 = H1.dual()\n",
    "print(time.time() - start)\n",
    "(H1.num_nodes, H1.num_edges)"
   ]
  },
  {
   "cell_type": "code",
   "execution_count": 14,
   "metadata": {},
   "outputs": [
    {
     "name": "stdout",
     "output_type": "stream",
     "text": [
      "40.126617193222046\n"
     ]
    },
    {
     "data": {
      "text/plain": [
       "(2261, 12368)"
      ]
     },
     "execution_count": 14,
     "metadata": {},
     "output_type": "execute_result"
    }
   ],
   "source": [
    "start = time.time()\n",
    "H2 = hnx.Hypergraph(df, static=True)\n",
    "print(time.time() - start)\n",
    "H2.shape"
   ]
  },
  {
   "cell_type": "code",
   "execution_count": 15,
   "metadata": {},
   "outputs": [
    {
     "name": "stdout",
     "output_type": "stream",
     "text": [
      "19.34950351715088\n",
      "0.005000114440917969\n"
     ]
    }
   ],
   "source": [
    "start = time.time()\n",
    "I1 = xgi.incidence_matrix(H1)\n",
    "print(time.time() - start)\n",
    "\n",
    "start = time.time()\n",
    "I2 = H2.incidence_matrix()\n",
    "print(time.time() - start)"
   ]
  },
  {
   "cell_type": "code",
   "execution_count": 16,
   "metadata": {},
   "outputs": [
    {
     "name": "stdout",
     "output_type": "stream",
     "text": [
      "0.6973035335540771\n",
      "15.175977230072021\n"
     ]
    }
   ],
   "source": [
    "start = time.time()\n",
    "H1.dual()\n",
    "print(time.time() - start)\n",
    "\n",
    "start = time.time()\n",
    "H2.dual()\n",
    "print(time.time() - start)"
   ]
  },
  {
   "cell_type": "code",
   "execution_count": 17,
   "metadata": {},
   "outputs": [
    {
     "name": "stdout",
     "output_type": "stream",
     "text": [
      "18.94729518890381\n",
      "0.1862046718597412\n"
     ]
    }
   ],
   "source": [
    "start = time.time()\n",
    "xgi.adjacency_matrix(H1)\n",
    "print(time.time() - start)\n",
    "\n",
    "start = time.time()\n",
    "H2.adjacency_matrix()\n",
    "print(time.time() - start)"
   ]
  },
  {
   "cell_type": "code",
   "execution_count": 18,
   "metadata": {},
   "outputs": [
    {
     "name": "stdout",
     "output_type": "stream",
     "text": [
      "0.22495102882385254\n",
      "1.8861963748931885\n"
     ]
    }
   ],
   "source": [
    "start = time.time()\n",
    "xgi.to_hyperedge_dict(H1)\n",
    "print(time.time() - start)\n",
    "\n",
    "start = time.time()\n",
    "H2.incidence_dict\n",
    "print(time.time() - start)"
   ]
  },
  {
   "cell_type": "code",
   "execution_count": 25,
   "metadata": {},
   "outputs": [
    {
     "name": "stdout",
     "output_type": "stream",
     "text": [
      "0.12999200820922852\n",
      "0.24797916412353516\n"
     ]
    }
   ],
   "source": [
    "start = time.time()\n",
    "for node in H1.nodes:\n",
    "    a = H1.nodes.memberships(node)\n",
    "print(time.time() - start)\n",
    "\n",
    "start = time.time()\n",
    "for node in H2.nodes:\n",
    "    a = H2.nodes.memberships[node]\n",
    "print(time.time() - start)"
   ]
  },
  {
   "cell_type": "code",
   "execution_count": 27,
   "metadata": {},
   "outputs": [
    {
     "name": "stdout",
     "output_type": "stream",
     "text": [
      "2.4370179176330566\n",
      "14.03342580795288\n"
     ]
    }
   ],
   "source": [
    "start = time.time()\n",
    "for edge in H1.edges:\n",
    "    a = H1.edges.members(edge)\n",
    "print(time.time() - start)\n",
    "\n",
    "start = time.time()\n",
    "for node in H2.nodes:\n",
    "    a = H2.edges[edge]\n",
    "print(time.time() - start)"
   ]
  },
  {
   "cell_type": "code",
   "execution_count": 20,
   "metadata": {},
   "outputs": [
    {
     "name": "stdout",
     "output_type": "stream",
     "text": [
      "0.6568243503570557\n",
      "5.016293287277222\n"
     ]
    }
   ],
   "source": [
    "start = time.time()\n",
    "xgi.is_connected(H1)\n",
    "print(time.time() - start)\n",
    "\n",
    "start = time.time()\n",
    "H2.is_connected()\n",
    "print(time.time() - start)"
   ]
  }
 ],
 "metadata": {
  "interpreter": {
   "hash": "e8c90be8a507c947d600755d98ec41f3a8064ae1d46b0505dd1a3ad2a7800759"
  },
  "kernelspec": {
   "display_name": "Python 3.9.7 64-bit (conda)",
   "language": "python",
   "name": "python3"
  },
  "language_info": {
   "codemirror_mode": {
    "name": "ipython",
    "version": 3
   },
   "file_extension": ".py",
   "mimetype": "text/x-python",
   "name": "python",
   "nbconvert_exporter": "python",
   "pygments_lexer": "ipython3",
   "version": "3.9.7"
  },
  "orig_nbformat": 4
 },
 "nbformat": 4,
 "nbformat_minor": 2
}
