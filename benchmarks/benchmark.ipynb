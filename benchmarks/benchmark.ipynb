{
 "cells": [
  {
   "cell_type": "code",
   "execution_count": 1,
   "metadata": {},
   "outputs": [],
   "source": [
    "import hypernetx as hnx\n",
    "import xgi\n",
    "import pandas as pd\n",
    "import time"
   ]
  },
  {
   "cell_type": "code",
   "execution_count": 2,
   "metadata": {},
   "outputs": [],
   "source": [
    "fname = \"../data/disGene.txt\"\n",
    "df = pd.read_csv(fname, delimiter=\" \", header=None)"
   ]
  },
  {
   "cell_type": "code",
   "execution_count": 3,
   "metadata": {},
   "outputs": [
    {
     "name": "stdout",
     "output_type": "stream",
     "text": [
      "0.7862493991851807\n"
     ]
    },
    {
     "data": {
      "text/plain": [
       "(2261, 12368)"
      ]
     },
     "execution_count": 3,
     "metadata": {},
     "output_type": "execute_result"
    }
   ],
   "source": [
    "start = time.time()\n",
    "H1 = xgi.Hypergraph(df)\n",
    "H1 = H1.dual()\n",
    "print(time.time() - start)\n",
    "(H1.num_nodes, H1.num_edges)"
   ]
  },
  {
   "cell_type": "code",
   "execution_count": 4,
   "metadata": {},
   "outputs": [
    {
     "name": "stdout",
     "output_type": "stream",
     "text": [
      "26.969719409942627\n"
     ]
    },
    {
     "data": {
      "text/plain": [
       "(2261, 12368)"
      ]
     },
     "execution_count": 4,
     "metadata": {},
     "output_type": "execute_result"
    }
   ],
   "source": [
    "start = time.time()\n",
    "H2 = hnx.Hypergraph(df, static=True)\n",
    "print(time.time() - start)\n",
    "H2.shape"
   ]
  },
  {
   "cell_type": "code",
   "execution_count": 5,
   "metadata": {},
   "outputs": [
    {
     "name": "stdout",
     "output_type": "stream",
     "text": [
      "0.21578502655029297\n",
      "0.0030651092529296875\n"
     ]
    }
   ],
   "source": [
    "start = time.time()\n",
    "I1 = xgi.incidence_matrix(H1)\n",
    "print(time.time() - start)\n",
    "\n",
    "start = time.time()\n",
    "I2 = H2.incidence_matrix()\n",
    "print(time.time() - start)"
   ]
  },
  {
   "cell_type": "code",
   "execution_count": 6,
   "metadata": {},
   "outputs": [
    {
     "name": "stdout",
     "output_type": "stream",
     "text": [
      "0.26488590240478516\n",
      "7.163757801055908\n"
     ]
    }
   ],
   "source": [
    "start = time.time()\n",
    "H1.dual()\n",
    "print(time.time() - start)\n",
    "\n",
    "start = time.time()\n",
    "H2.dual()\n",
    "print(time.time() - start)"
   ]
  },
  {
   "cell_type": "code",
   "execution_count": 7,
   "metadata": {},
   "outputs": [
    {
     "name": "stdout",
     "output_type": "stream",
     "text": [
      "0.2491471767425537\n",
      "0.08088803291320801\n"
     ]
    }
   ],
   "source": [
    "start = time.time()\n",
    "xgi.adjacency_matrix(H1)\n",
    "print(time.time() - start)\n",
    "\n",
    "start = time.time()\n",
    "H2.adjacency_matrix()\n",
    "print(time.time() - start)"
   ]
  },
  {
   "cell_type": "code",
   "execution_count": 8,
   "metadata": {},
   "outputs": [
    {
     "name": "stdout",
     "output_type": "stream",
     "text": [
      "0.23104119300842285\n",
      "1.052358865737915\n"
     ]
    }
   ],
   "source": [
    "start = time.time()\n",
    "xgi.to_hyperedge_dict(H1)\n",
    "print(time.time() - start)\n",
    "\n",
    "start = time.time()\n",
    "H2.incidence_dict\n",
    "print(time.time() - start)"
   ]
  },
  {
   "cell_type": "code",
   "execution_count": 9,
   "metadata": {},
   "outputs": [
    {
     "name": "stdout",
     "output_type": "stream",
     "text": [
      "0.0077855587005615234\n",
      "0.23103785514831543\n"
     ]
    }
   ],
   "source": [
    "start = time.time()\n",
    "for node in H1.nodes:\n",
    "    a = H1.nodes.memberships(node)\n",
    "print(time.time() - start)\n",
    "\n",
    "start = time.time()\n",
    "for node in H2.nodes:\n",
    "    a = H2.nodes.memberships[node]\n",
    "print(time.time() - start)"
   ]
  },
  {
   "cell_type": "code",
   "execution_count": 10,
   "metadata": {},
   "outputs": [
    {
     "name": "stdout",
     "output_type": "stream",
     "text": [
      "0.020564794540405273\n",
      "8.845157861709595\n"
     ]
    }
   ],
   "source": [
    "start = time.time()\n",
    "for edge in H1.edges:\n",
    "    a = H1.edges.members(edge)\n",
    "print(time.time() - start)\n",
    "\n",
    "start = time.time()\n",
    "for node in H2.nodes:\n",
    "    a = H2.edges[edge]\n",
    "print(time.time() - start)"
   ]
  },
  {
   "cell_type": "code",
   "execution_count": 11,
   "metadata": {},
   "outputs": [
    {
     "name": "stdout",
     "output_type": "stream",
     "text": [
      "0.36504125595092773\n",
      "2.280500650405884\n"
     ]
    }
   ],
   "source": [
    "start = time.time()\n",
    "xgi.is_connected(H1)\n",
    "print(time.time() - start)\n",
    "\n",
    "start = time.time()\n",
    "H2.is_connected()\n",
    "print(time.time() - start)"
   ]
  }
 ],
 "metadata": {
  "interpreter": {
   "hash": "e8c90be8a507c947d600755d98ec41f3a8064ae1d46b0505dd1a3ad2a7800759"
  },
  "kernelspec": {
   "display_name": "Python 3 (ipykernel)",
   "language": "python",
   "name": "python3"
  },
  "language_info": {
   "codemirror_mode": {
    "name": "ipython",
    "version": 3
   },
   "file_extension": ".py",
   "mimetype": "text/x-python",
   "name": "python",
   "nbconvert_exporter": "python",
   "pygments_lexer": "ipython3",
   "version": "3.9.7"
  }
 },
 "nbformat": 4,
 "nbformat_minor": 2
}
