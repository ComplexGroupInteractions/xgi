{
 "cells": [
  {
   "cell_type": "markdown",
   "metadata": {},
   "source": [
    "### Benchmark with SimpleHypergraph.jl\n",
    "\n",
    "This notebook provides a comparison to SimpleHypergraph.jl for running several algorithms, calculating measures, and accessing properties.\n",
    "\n",
    "The following steps are needed to run this notebook:\n",
    "* Install the benchmarks requirements file by running\n",
    "```\n",
    "pip install requirements/benchmarks.txt\n",
    "```\n",
    "* In your python terminal, run\n",
    "```\n",
    "import julia\n",
    "julia.install()\n",
    "```\n",
    "* Install [SimpleHypergraphs.jl](https://github.com/pszufe/SimpleHypergraphs.jl)"
   ]
  },
  {
   "cell_type": "code",
   "execution_count": null,
   "metadata": {},
   "outputs": [],
   "source": [
    "import xgi\n",
    "import julia\n",
    "import pandas as pd\n",
    "import time"
   ]
  },
  {
   "cell_type": "code",
   "execution_count": null,
   "metadata": {},
   "outputs": [],
   "source": [
    "%load_ext julia.magic"
   ]
  },
  {
   "cell_type": "code",
   "execution_count": null,
   "metadata": {},
   "outputs": [],
   "source": [
    "%julia using SimpleHypergraphs"
   ]
  },
  {
   "cell_type": "code",
   "execution_count": null,
   "metadata": {},
   "outputs": [],
   "source": [
    "fname = \"../data/disGene.txt\"\n",
    "df = pd.read_csv(fname, delimiter=\" \", header=None)"
   ]
  },
  {
   "cell_type": "code",
   "execution_count": null,
   "metadata": {},
   "outputs": [],
   "source": [
    "H1 = xgi.Hypergraph(df)\n",
    "d = xgi.incidence_matrix(H1, sparse=False)\n",
    "%julia H2 = Hypergraph($d);"
   ]
  },
  {
   "cell_type": "code",
   "execution_count": null,
   "metadata": {},
   "outputs": [],
   "source": [
    "%julia @time begin A = adjacency_matrix(H2); end\n",
    "\n",
    "start = time.time()\n",
    "A = xgi.adjacency_matrix(H1)\n",
    "print(time.time() - start)\n"
   ]
  }
 ],
 "metadata": {
  "interpreter": {
   "hash": "fdeb83b6e5b2333358b6ba79181fac315f1a722b4574d7079c134c9ae27f7c53"
  },
  "kernelspec": {
   "display_name": "Python 3.9.7",
   "language": "python",
   "name": "python3"
  },
  "language_info": {
   "codemirror_mode": {
    "name": "ipython",
    "version": 3
   },
   "file_extension": ".py",
   "mimetype": "text/x-python",
   "name": "python",
   "nbconvert_exporter": "python",
   "pygments_lexer": "ipython3",
   "version": "3.9.7"
  }
 },
 "nbformat": 4,
 "nbformat_minor": 2
}
