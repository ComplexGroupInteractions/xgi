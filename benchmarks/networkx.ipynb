{
 "cells": [
  {
   "cell_type": "markdown",
   "metadata": {},
   "source": [
    "### Benchmark with NetworkX\n",
    "\n",
    "This notebook provides a comparison (for pairwise networks) to NetworkX for running several algorithms, calculating measures, and accessing properties."
   ]
  },
  {
   "cell_type": "code",
   "execution_count": null,
   "metadata": {},
   "outputs": [],
   "source": [
    "import networkx as nx\n",
    "import xgi\n",
    "import time"
   ]
  },
  {
   "cell_type": "code",
   "execution_count": null,
   "metadata": {},
   "outputs": [],
   "source": [
    "n = 1000\n",
    "p = 0.008\n",
    "G1 = nx.fast_gnp_random_graph(n, p)\n",
    "edgelist = [(n1, n2) for n1, n2, _ in nx.to_edgelist(G1)]\n",
    "G2 = xgi.Hypergraph(edgelist)"
   ]
  },
  {
   "cell_type": "code",
   "execution_count": null,
   "metadata": {},
   "outputs": [],
   "source": [
    "print(f\"The shape of the NetworkX graph is ({G1.number_of_nodes()}, {G1.number_of_edges()})\")\n",
    "print(f\"The shape of the XGI hypergraph is ({G2.num_nodes}, {G2.num_edges})\")"
   ]
  },
  {
   "cell_type": "code",
   "execution_count": null,
   "metadata": {},
   "outputs": [],
   "source": [
    "start = time.time()\n",
    "nx.is_connected(G1)\n",
    "print(time.time() - start)\n",
    "\n",
    "start = time.time()\n",
    "xgi.is_connected(G2)\n",
    "print(time.time() - start)"
   ]
  },
  {
   "cell_type": "code",
   "execution_count": null,
   "metadata": {},
   "outputs": [],
   "source": [
    "start = time.time()\n",
    "nx.adjacency_matrix(G1)\n",
    "print(time.time() - start)\n",
    "\n",
    "start = time.time()\n",
    "xgi.adjacency_matrix(G2)\n",
    "print(time.time() - start)"
   ]
  },
  {
   "cell_type": "code",
   "execution_count": null,
   "metadata": {},
   "outputs": [],
   "source": [
    "start = time.time()\n",
    "nx.incidence_matrix(G1)\n",
    "print(time.time() - start)\n",
    "\n",
    "start = time.time()\n",
    "xgi.incidence_matrix(G2)\n",
    "print(time.time() - start)"
   ]
  },
  {
   "cell_type": "code",
   "execution_count": null,
   "metadata": {},
   "outputs": [],
   "source": [
    "start = time.time()\n",
    "d1 = [G1.degree(n) for n in G1.nodes]\n",
    "print(time.time() - start)\n",
    "\n",
    "start = time.time()\n",
    "d2 = [G2.degree(n) for n in G2.nodes]\n",
    "print(time.time() - start)"
   ]
  },
  {
   "cell_type": "code",
   "execution_count": null,
   "metadata": {},
   "outputs": [],
   "source": [
    "start = time.time()\n",
    "e1 = [(u, v) for u, v in G1.edges]\n",
    "print(time.time() - start)\n",
    "\n",
    "start = time.time()\n",
    "e2 = [G2.edges.members(e) for e in G2.edges]\n",
    "print(time.time() - start)"
   ]
  },
  {
   "cell_type": "code",
   "execution_count": null,
   "metadata": {},
   "outputs": [],
   "source": [
    "start = time.time()\n",
    "e1 = [(u, v) for u, v in G1.edges]\n",
    "print(time.time() - start)\n",
    "\n",
    "start = time.time()\n",
    "e2 = [G2.edges.members(e) for e in G2.edges]\n",
    "print(time.time() - start)"
   ]
  }
 ],
 "metadata": {
  "interpreter": {
   "hash": "fdeb83b6e5b2333358b6ba79181fac315f1a722b4574d7079c134c9ae27f7c53"
  },
  "kernelspec": {
   "display_name": "Python 3.9.7",
   "language": "python",
   "name": "python3"
  },
  "language_info": {
   "codemirror_mode": {
    "name": "ipython",
    "version": 3
   },
   "file_extension": ".py",
   "mimetype": "text/x-python",
   "name": "python",
   "nbconvert_exporter": "python",
   "pygments_lexer": "ipython3",
   "version": "3.9.7"
  },
  "orig_nbformat": 4
 },
 "nbformat": 4,
 "nbformat_minor": 2
}
